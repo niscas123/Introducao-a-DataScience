{
 "cells": [
  {
   "cell_type": "code",
   "execution_count": 3,
   "metadata": {},
   "outputs": [
    {
     "ename": "NameError",
     "evalue": "name 'SelectKBeast' is not defined",
     "output_type": "error",
     "traceback": [
      "\u001b[1;31m---------------------------------------------------------------------------\u001b[0m",
      "\u001b[1;31mNameError\u001b[0m                                 Traceback (most recent call last)",
      "\u001b[1;32m<ipython-input-3-7060ba4840ad>\u001b[0m in \u001b[0;36m<module>\u001b[1;34m\u001b[0m\n\u001b[0;32m      9\u001b[0m \u001b[1;33m\u001b[0m\u001b[0m\n\u001b[0;32m     10\u001b[0m \u001b[1;31m#Aplicação da Classe SlectKBeast pegando os 10 melhores \"preços\"\u001b[0m\u001b[1;33m\u001b[0m\u001b[1;33m\u001b[0m\u001b[1;33m\u001b[0m\u001b[0m\n\u001b[1;32m---> 11\u001b[1;33m \u001b[0mmelhores_recursos\u001b[0m \u001b[1;33m=\u001b[0m \u001b[0mSelectKBeast\u001b[0m\u001b[1;33m(\u001b[0m\u001b[0mscore_func\u001b[0m \u001b[1;33m=\u001b[0m \u001b[0mchi2\u001b[0m\u001b[1;33m,\u001b[0m \u001b[0mk\u001b[0m \u001b[1;33m=\u001b[0m \u001b[1;36m10\u001b[0m\u001b[1;33m)\u001b[0m\u001b[1;33m;\u001b[0m\u001b[1;33m\u001b[0m\u001b[1;33m\u001b[0m\u001b[0m\n\u001b[0m\u001b[0;32m     12\u001b[0m \u001b[0mfitness\u001b[0m \u001b[1;33m=\u001b[0m \u001b[0mmelhores_recursos\u001b[0m\u001b[1;33m.\u001b[0m\u001b[0mfitness\u001b[0m\u001b[1;33m(\u001b[0m\u001b[0mx\u001b[0m\u001b[1;33m,\u001b[0m \u001b[0my\u001b[0m\u001b[1;33m)\u001b[0m\u001b[1;33m;\u001b[0m\u001b[1;33m\u001b[0m\u001b[1;33m\u001b[0m\u001b[0m\n\u001b[0;32m     13\u001b[0m \u001b[0md_frame_score\u001b[0m \u001b[1;33m=\u001b[0m \u001b[0mpd\u001b[0m\u001b[1;33m.\u001b[0m\u001b[0mDataFrame\u001b[0m\u001b[1;33m(\u001b[0m\u001b[0mfitness\u001b[0m\u001b[1;33m.\u001b[0m\u001b[0mscores_\u001b[0m\u001b[1;33m)\u001b[0m\u001b[1;33m;\u001b[0m\u001b[1;33m\u001b[0m\u001b[1;33m\u001b[0m\u001b[0m\n",
      "\u001b[1;31mNameError\u001b[0m: name 'SelectKBeast' is not defined"
     ]
    }
   ],
   "source": [
    "import pandas as pd;\n",
    "import numpy as np;\n",
    "from sklearn.feature_selection import SelectKBest;\n",
    "from sklearn.feature_selection import chi2;\n",
    "\n",
    "data_frame = pd.read_csv('DadosJuntos.csv');\n",
    "x = data_frame.iloc[:, 0:20]; #Colunas independentes\n",
    "y = data_frame.iloc[:, -1] #\n",
    "\n",
    "#Aplicação da Classe SlectKBeast pegando os 10 melhores \"preços\"\n",
    "melhores_recursos = SelectKBeast(score_func = chi2, k = 10);\n",
    "fitness = melhores_recursos.fitness(x, y);\n",
    "d_frame_score = pd.DataFrame(fitness.scores_);\n",
    "d_frame_colunas = pd.DataFrame(x.columns);\n",
    "\n",
    "#Contacta duas base de dados para melhor vizualização\n",
    "melhores_pontos = pd.concat([d_frame_colunas, d_frame_score], axis = 1);\n",
    "melhores_pontos.columns = ['Especificações', 'Pontos']; #Nomeando as colunas nos quadros de dados\n",
    "print(melhores_pontos.nlargest(10, 'Pontos')); #10 melhores recursos (features)\n",
    "\n",
    "dfscores = pd.DataFrame(fit.scores_)\n",
    "dfcolumns = pd.DataFrame(x.columns)\n",
    "#concat two dataframes for better visualization \n",
    "featureScores = pd.concat([dfcolumns,dfscores],axis=1)\n",
    "featureScores.columns = ['Specs','Score']  #naming the dataframe columns\n",
    "print(featureScores.nlargest(10,'Score'))  #print 10 best features\n"
   ]
  },
  {
   "cell_type": "code",
   "execution_count": null,
   "metadata": {},
   "outputs": [],
   "source": []
  }
 ],
 "metadata": {
  "kernelspec": {
   "display_name": "Python 3",
   "language": "python",
   "name": "python3"
  }
 },
 "nbformat": 4,
 "nbformat_minor": 4
}
